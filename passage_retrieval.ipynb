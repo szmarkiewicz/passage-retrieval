{
 "cells": [
  {
   "metadata": {},
   "cell_type": "markdown",
   "source": "# PolEval - Passage Retrieval",
   "id": "9a7d74a819ad0fcd"
  },
  {
   "metadata": {},
   "cell_type": "markdown",
   "source": "## Imports and consts",
   "id": "976f3920290a0790"
  },
  {
   "metadata": {},
   "cell_type": "code",
   "source": [
    "# Resets variables. Execute if needed\n",
    "%reset"
   ],
   "id": "64f985435704c2af",
   "outputs": [],
   "execution_count": null
  },
  {
   "cell_type": "code",
   "id": "5083bc1b",
   "metadata": {},
   "source": [
    "import os\n",
    "import pandas as pd\n",
    "\n",
    "from tqdm.auto import tqdm\n",
    "from haystack_integrations.document_stores.elasticsearch import ElasticsearchDocumentStore\n",
    "from haystack_integrations.components.retrievers.elasticsearch import ElasticsearchBM25Retriever\n",
    "from haystack import Document\n",
    "from haystack import Pipeline\n",
    "from huggingface_hub import hf_hub_download\n",
    "from datasets import load_dataset\n",
    "from haystack.document_stores.types.policy import DuplicatePolicy"
   ],
   "outputs": [],
   "execution_count": null
  },
  {
   "cell_type": "code",
   "id": "01891994",
   "metadata": {},
   "source": "dataset_path = 'datasets/'",
   "outputs": [],
   "execution_count": null
  },
  {
   "metadata": {},
   "cell_type": "markdown",
   "source": "## Download datasets",
   "id": "1cc4e651b2327e78"
  },
  {
   "metadata": {},
   "cell_type": "code",
   "source": [
    "passages_allegro_source = hf_hub_download(repo_id=\"piotr-rybak/poleval2022-passage-retrieval-dataset\", subfolder=\"allegro-faq\", filename=\"passages.jl\", repo_type=\"dataset\")\n",
    "questions_allegro_source = hf_hub_download(repo_id=\"piotr-rybak/poleval2022-passage-retrieval-dataset\", subfolder=\"allegro-faq\", filename=\"questions-test.jl\", repo_type=\"dataset\")\n",
    "passages_legal_source = hf_hub_download(repo_id=\"piotr-rybak/poleval2022-passage-retrieval-dataset\", subfolder=\"legal-questions\", filename=\"passages.jl\", repo_type=\"dataset\")\n",
    "questions_legal_source = hf_hub_download(repo_id=\"piotr-rybak/poleval2022-passage-retrieval-dataset\", subfolder=\"legal-questions\", filename=\"questions-test.jl\", repo_type=\"dataset\")\n",
    "passages_wiki_source = hf_hub_download(repo_id=\"piotr-rybak/poleval2022-passage-retrieval-dataset\", subfolder=\"wiki-trivia\", filename=\"passages.jl\", repo_type=\"dataset\")\n",
    "questions_wiki_source = hf_hub_download(repo_id=\"piotr-rybak/poleval2022-passage-retrieval-dataset\", subfolder=\"wiki-trivia\", filename=\"questions-test.jl\", repo_type=\"dataset\")\n",
    "\n",
    "training_set = load_dataset(\"piotr-rybak/poleval2022-passage-retrieval-dataset\", split=\"train\")\n",
    "test_set = load_dataset(\"piotr-rybak/poleval2022-passage-retrieval-dataset\", split=\"test\")"
   ],
   "id": "1ea8d67008a70c1a",
   "outputs": [],
   "execution_count": null
  },
  {
   "cell_type": "markdown",
   "id": "d704ae67",
   "metadata": {},
   "source": [
    "## Launch ElasticSearch in Docker and create stores\n",
    "\n",
    "In terminal when in root directory run:\n",
    "- docker-compose up"
   ]
  },
  {
   "metadata": {
    "ExecuteTime": {
     "end_time": "2024-05-27T23:01:02.920313Z",
     "start_time": "2024-05-27T23:01:02.915279Z"
    }
   },
   "cell_type": "code",
   "source": [
    "# Count documents in store to verify\n",
    "def count_documents(stores):\n",
    "    for key in stores:\n",
    "        print(stores[key].count_documents())"
   ],
   "id": "a9bcae1c",
   "outputs": [],
   "execution_count": 30
  },
  {
   "metadata": {
    "ExecuteTime": {
     "end_time": "2024-05-27T23:01:09.963131Z",
     "start_time": "2024-05-27T23:01:09.654364Z"
    }
   },
   "cell_type": "code",
   "source": [
    "# Declare stores\n",
    "import requests\n",
    "import json\n",
    "\n",
    "document_stores = {\n",
    "    'allegro': ElasticsearchDocumentStore(hosts='http://localhost:9200', index='allegro'),\n",
    "    'wiki': ElasticsearchDocumentStore(hosts='http://localhost:9200', index='wiki'),\n",
    "    'legal': ElasticsearchDocumentStore(hosts='http://localhost:9200', index='legal'),\n",
    "}\n",
    "\n",
    "def change_document_store_window_size(key, size):\n",
    "    url = \"http://localhost:9200/\" + key + \"/_settings\"\n",
    "    \n",
    "    data = {\n",
    "      \"index\": {\n",
    "        \"max_result_window\" : size\n",
    "      }\n",
    "    }\n",
    "    \n",
    "    headers = {\n",
    "        \"content-type\": \"application/json\"\n",
    "    }\n",
    "    \n",
    "    response = requests.put(url, headers=headers, data=json.dumps(data))\n",
    "    \n",
    "    print(response.text)\n",
    "\n",
    "change_document_store_window_size('wiki', 500000)\n",
    "change_document_store_window_size('legal', 30000)"
   ],
   "id": "432a17cdddb1f241",
   "outputs": [
    {
     "name": "stdout",
     "output_type": "stream",
     "text": [
      "{\"acknowledged\":true}\n",
      "{\"acknowledged\":true}\n"
     ]
    }
   ],
   "execution_count": 31
  },
  {
   "metadata": {
    "ExecuteTime": {
     "end_time": "2024-05-27T23:01:43.972344Z",
     "start_time": "2024-05-27T23:01:43.853652Z"
    }
   },
   "cell_type": "code",
   "source": [
    "def delete_documents(store=None):\n",
    "    if store is not None:\n",
    "        store.delete_documents(document_ids=list(map(lambda document: document.id, store.filter_documents(filters={}))))\n",
    "    else:\n",
    "        count_documents(document_stores)\n",
    "        \n",
    "        for key in document_stores:\n",
    "            documents_to_delete = list(map(lambda document: document.id, document_stores[key].filter_documents(filters={})))\n",
    "            while len(documents_to_delete) > 0:\n",
    "                print(\"Deleting...\")\n",
    "                document_stores[key].delete_documents(document_ids=documents_to_delete)\n",
    "                documents_to_delete = list(map(lambda document: document.id, document_stores[key].filter_documents(filters={})))\n",
    "                \n",
    "        count_documents(document_stores)\n",
    "\n",
    "    \n",
    "delete_documents()"
   ],
   "id": "d8016ba6",
   "outputs": [
    {
     "name": "stdout",
     "output_type": "stream",
     "text": [
      "0\n",
      "0\n",
      "0\n",
      "0\n",
      "0\n",
      "0\n"
     ]
    }
   ],
   "execution_count": 32
  },
  {
   "metadata": {},
   "cell_type": "markdown",
   "source": "## Index Passages",
   "id": "093bb8c2"
  },
  {
   "metadata": {
    "ExecuteTime": {
     "end_time": "2024-05-27T22:58:36.153328Z",
     "start_time": "2024-05-27T22:58:36.149659Z"
    }
   },
   "cell_type": "code",
   "source": [
    "passages = {\n",
    "    'allegro': pd.read_json(passages_allegro_source, lines=True, chunksize=int(1e5)),\n",
    "    'wiki': pd.read_json(passages_wiki_source, lines=True, chunksize=int(1e5)),\n",
    "    'legal': pd.read_json(passages_legal_source, lines=True, chunksize=int(1e5)),\n",
    "}"
   ],
   "id": "4fd5ec25acfe9457",
   "outputs": [],
   "execution_count": 28
  },
  {
   "metadata": {
    "ExecuteTime": {
     "end_time": "2024-05-27T22:39:39.188591Z",
     "start_time": "2024-05-27T22:38:42.210541Z"
    }
   },
   "cell_type": "code",
   "source": [
    "delete_documents()\n",
    "\n",
    "def write_to_document_store(key):\n",
    "    for batch in tqdm(passages[key]):\n",
    "        if 'title' in batch:\n",
    "            batch['title'] = batch['title'].fillna('')\n",
    "            batch['text'] = batch.apply(lambda r: r['title'] + ' ' + r['text'], axis=1)\n",
    "        \n",
    "        batch = batch.rename(columns={'id': 'passage-id', 'text': 'content'})\n",
    "        batch_as_dicts = batch.to_dict(orient='records')\n",
    "        documents_list = [Document(content=str(passageDict['content']), id=str(passageDict['passage-id'])) for passageDict in batch_as_dicts]\n",
    "        document_stores[key].write_documents(documents_list, policy=DuplicatePolicy.SKIP)\n",
    "\n",
    "write_to_document_store('allegro')\n",
    "write_to_document_store('legal')\n",
    "# Takes ~4h\n",
    "# write_to_document_store('wiki')"
   ],
   "id": "e189d736",
   "outputs": [
    {
     "name": "stdout",
     "output_type": "stream",
     "text": [
      "0\n",
      "0\n",
      "0\n",
      "0\n",
      "0\n",
      "0\n"
     ]
    },
    {
     "data": {
      "text/plain": [
       "0it [00:00, ?it/s]"
      ],
      "application/vnd.jupyter.widget-view+json": {
       "version_major": 2,
       "version_minor": 0,
       "model_id": "54b6fc9ff83e4cdc8a6bb600d675e468"
      }
     },
     "metadata": {},
     "output_type": "display_data"
    },
    {
     "data": {
      "text/plain": [
       "0it [00:00, ?it/s]"
      ],
      "application/vnd.jupyter.widget-view+json": {
       "version_major": 2,
       "version_minor": 0,
       "model_id": "86845903964c417896874db0ab4fe2b6"
      }
     },
     "metadata": {},
     "output_type": "display_data"
    }
   ],
   "execution_count": 11
  },
  {
   "metadata": {},
   "cell_type": "markdown",
   "source": "## Load questions",
   "id": "56a243269cf0a387"
  },
  {
   "cell_type": "code",
   "id": "662d7b96",
   "metadata": {
    "ExecuteTime": {
     "end_time": "2024-05-27T23:01:54.982714Z",
     "start_time": "2024-05-27T23:01:54.966451Z"
    }
   },
   "source": [
    "questions_allegro = pd.read_json(questions_allegro_source, lines=True)\n",
    "print(questions_allegro.shape)\n",
    "\n",
    "questions_wiki = pd.read_json(questions_wiki_source, lines=True)\n",
    "print(questions_wiki.shape)\n",
    "\n",
    "questions_legal = pd.read_json(questions_legal_source, lines=True)\n",
    "print(questions_legal.shape)"
   ],
   "outputs": [
    {
     "name": "stdout",
     "output_type": "stream",
     "text": [
      "(900, 2)\n",
      "(1291, 2)\n",
      "(718, 2)\n"
     ]
    }
   ],
   "execution_count": 33
  },
  {
   "metadata": {},
   "cell_type": "markdown",
   "source": "## Construct pipes and gather predictions",
   "id": "b0ea5677"
  },
  {
   "cell_type": "code",
   "id": "ae70ea76",
   "metadata": {
    "ExecuteTime": {
     "end_time": "2024-05-27T23:01:58.030902Z",
     "start_time": "2024-05-27T23:01:58.028009Z"
    }
   },
   "source": [
    "def run_pipe(pipeline, pipe_param_callback, questions):\n",
    "    preds = []\n",
    "    \n",
    "    for _, row in questions.iterrows():\n",
    "        pipe_params = pipe_param_callback(row)\n",
    "        top_passages = pipeline.run(pipe_params)\n",
    "        \n",
    "        for passage in top_passages['retriever']['documents']:\n",
    "            passage = passage.to_dict()\n",
    "            preds.append({\n",
    "                'question-id': row['id'],\n",
    "                'passage-id': passage['id'],\n",
    "                'score': passage['score'],\n",
    "            })\n",
    "    \n",
    "    return pd.DataFrame(preds)"
   ],
   "outputs": [],
   "execution_count": 34
  },
  {
   "metadata": {},
   "cell_type": "markdown",
   "source": [
    "### Base BM25 algorithm\n",
    "\n",
    "Uses a retriever that utilizes BM25 algorithm (bag-of-words based)"
   ],
   "id": "b39e01de7e96a1eb"
  },
  {
   "metadata": {
    "ExecuteTime": {
     "end_time": "2024-05-27T22:40:34.898935Z",
     "start_time": "2024-05-27T22:39:53.167175Z"
    }
   },
   "cell_type": "code",
   "source": [
    "bm25_retrievers = {\n",
    "    'allegro': ElasticsearchBM25Retriever(document_store=document_stores['allegro']),\n",
    "    'wiki': ElasticsearchBM25Retriever(document_store=document_stores['wiki']),\n",
    "    'legal': ElasticsearchBM25Retriever(document_store=document_stores['legal']),\n",
    "}\n",
    "\n",
    "def construct_bm25_pipelines():\n",
    "    pipes = {\n",
    "        'allegro': Pipeline(),\n",
    "        'wiki': Pipeline(),\n",
    "        'legal': Pipeline(),\n",
    "    }\n",
    "    \n",
    "    pipes['allegro'].add_component(\"retriever\", bm25_retrievers['allegro'])\n",
    "    pipes['wiki'].add_component(\"retriever\", bm25_retrievers['wiki'])\n",
    "    pipes['legal'].add_component(\"retriever\", bm25_retrievers['legal'])\n",
    "    \n",
    "    return pipes\n",
    "\n",
    "bm25_pipes = construct_bm25_pipelines()\n",
    "bm25_pipe_param_callback = lambda row: { 'retriever': {\"query\": row['text']}}\n",
    "\n",
    "bm25_predictions = {\n",
    "    'discriminator': 'bm25',\n",
    "    'allegro': run_pipe(bm25_pipes['allegro'], bm25_pipe_param_callback, questions_allegro),\n",
    "    'legal': run_pipe(bm25_pipes['legal'], bm25_pipe_param_callback, questions_legal),\n",
    "    # 'wiki': run_pipe(bm25_pipes['wiki'], bm25_pipe_param_callback, questions_wiki)\n",
    "}"
   ],
   "id": "8b494b4c306b66af",
   "outputs": [],
   "execution_count": 14
  },
  {
   "metadata": {},
   "cell_type": "markdown",
   "source": "### Text embedding",
   "id": "9b7cef8101dad37"
  },
  {
   "metadata": {
    "ExecuteTime": {
     "end_time": "2024-05-27T23:02:07.087537Z",
     "start_time": "2024-05-27T23:02:07.079873Z"
    }
   },
   "cell_type": "code",
   "source": [
    "### Definitions, functions\n",
    "from haystack_integrations.components.retrievers.elasticsearch import ElasticsearchEmbeddingRetriever\n",
    "from haystack.components.embedders import SentenceTransformersTextEmbedder\n",
    "from haystack.components.embedders import SentenceTransformersDocumentEmbedder\n",
    "\n",
    "model_mpnet = \"sentence-transformers/all-mpnet-base-v2\"\n",
    "model_minilm = \"sentence-transformers/all-MiniLM-L12-v2\"\n",
    "\n",
    "mppnet_document_embedder = SentenceTransformersDocumentEmbedder(model=model_mpnet)  \n",
    "mppnet_document_embedder.warm_up()\n",
    "\n",
    "minilm_document_embedder = SentenceTransformersDocumentEmbedder(model=model_minilm)  \n",
    "minilm_document_embedder.warm_up()\n",
    "\n",
    "def write_to_document_store_with_embeddings(key, document_embedder):\n",
    "    for batch in tqdm(passages[key]):\n",
    "        if 'title' in batch:\n",
    "            batch['title'] = batch['title'].fillna('')\n",
    "            batch['text'] = batch.apply(lambda r: r['title'] + ' ' + r['text'], axis=1)\n",
    "        \n",
    "        batch = batch.rename(columns={'id': 'passage-id', 'text': 'content'})\n",
    "        batch_as_dicts = batch.to_dict(orient='records')\n",
    "        documents_list = [Document(content=str(passageDict['content']), id=str(passageDict['passage-id'])) for passageDict in batch_as_dicts]\n",
    "        documents_with_embeddings = document_embedder.run(documents_list)\n",
    "        document_stores[key].write_documents(documents_with_embeddings['documents'], policy=DuplicatePolicy.SKIP)\n",
    "        \n",
    "embedding_retrievers = {\n",
    "    'allegro': ElasticsearchEmbeddingRetriever(document_store=document_stores['allegro']),\n",
    "    'wiki': ElasticsearchEmbeddingRetriever(document_store=document_stores['wiki']),\n",
    "    'legal': ElasticsearchEmbeddingRetriever(document_store=document_stores['legal']),\n",
    "}\n",
    "        \n",
    "def construct_embedding_pipelines(text_embedders):\n",
    "    pipes = {\n",
    "        'allegro': Pipeline(),\n",
    "        'wiki': Pipeline(),\n",
    "        'legal': Pipeline(),\n",
    "    }\n",
    "    \n",
    "    pipes['allegro'].add_component(\"text_embedder\", text_embedders['allegro'])\n",
    "    pipes['allegro'].add_component(\"retriever\", embedding_retrievers['allegro'])\n",
    "    pipes['allegro'].connect(\"text_embedder.embedding\", \"retriever.query_embedding\")\n",
    "    \n",
    "    pipes['wiki'].add_component(\"text_embedder\", text_embedders['wiki'])\n",
    "    pipes['wiki'].add_component(\"retriever\", embedding_retrievers['wiki'])\n",
    "    pipes['wiki'].connect(\"text_embedder.embedding\", \"retriever.query_embedding\")\n",
    "    \n",
    "    pipes['legal'].add_component(\"text_embedder\", text_embedders['legal'])\n",
    "    pipes['legal'].add_component(\"retriever\", embedding_retrievers['legal'])\n",
    "    pipes['legal'].connect(\"text_embedder.embedding\", \"retriever.query_embedding\")\n",
    "    \n",
    "    return pipes"
   ],
   "id": "8232331360adbf16",
   "outputs": [],
   "execution_count": 35
  },
  {
   "metadata": {},
   "cell_type": "markdown",
   "source": [
    "#### mpnet-base-v2 model\n",
    "\n",
    "- pretrained\n",
    "- slow\n",
    "- general use case, multilingual"
   ],
   "id": "3f1bc860a2a7057e"
  },
  {
   "metadata": {
    "ExecuteTime": {
     "end_time": "2024-05-27T23:02:14.530935Z",
     "start_time": "2024-05-27T23:02:14.527613Z"
    }
   },
   "cell_type": "code",
   "source": [
    "passages = {\n",
    "    'allegro': pd.read_json(passages_allegro_source, lines=True, chunksize=int(1e5)),\n",
    "    'wiki': pd.read_json(passages_wiki_source, lines=True, chunksize=int(1e5)),\n",
    "    'legal': pd.read_json(passages_legal_source, lines=True, chunksize=int(1e5)),\n",
    "}"
   ],
   "id": "f681a22f4c3211f3",
   "outputs": [],
   "execution_count": 36
  },
  {
   "metadata": {
    "ExecuteTime": {
     "end_time": "2024-05-27T22:53:37.155429Z",
     "start_time": "2024-05-27T22:40:57.019617Z"
    }
   },
   "cell_type": "code",
   "source": [
    "delete_documents()\n",
    "\n",
    "write_to_document_store_with_embeddings('allegro', mppnet_document_embedder)\n",
    "write_to_document_store_with_embeddings('legal', mppnet_document_embedder)\n",
    "# Takes ~4h\n",
    "# write_to_document_store_with_embeddings('wiki', mppnet_document_embedder)\n",
    "\n",
    "mpnet_text_embedders = {\n",
    "    'allegro': SentenceTransformersTextEmbedder(model=model_mpnet, progress_bar=False),\n",
    "    'wiki': SentenceTransformersTextEmbedder(model=model_mpnet, progress_bar=False),\n",
    "    'legal': SentenceTransformersTextEmbedder(model=model_mpnet, progress_bar=False),\n",
    "}\n",
    "\n",
    "mpnet_pipes = construct_embedding_pipelines(mpnet_text_embedders)\n",
    "mpnet_pipe_param_callback = lambda row: {'text_embedder': {'text': row['text']}}\n",
    "\n",
    "mpnet_predictions = {\n",
    "    'discriminator': 'mpnet',\n",
    "    'allegro': run_pipe(mpnet_pipes['allegro'], mpnet_pipe_param_callback, questions_allegro),\n",
    "    'legal': run_pipe(mpnet_pipes['legal'], mpnet_pipe_param_callback, questions_legal),\n",
    "    # 'wiki': run_pipe(mpnet_pipes['wiki'], mpnet_pipe_param_callback, questions_wiki)\n",
    "}"
   ],
   "id": "651d089743d24eed",
   "outputs": [
    {
     "name": "stdout",
     "output_type": "stream",
     "text": [
      "921\n",
      "0\n",
      "25810\n",
      "Deleting...\n",
      "Deleting...\n",
      "Deleting...\n",
      "Deleting...\n",
      "0\n",
      "0\n",
      "0\n"
     ]
    },
    {
     "data": {
      "text/plain": [
       "0it [00:00, ?it/s]"
      ],
      "application/vnd.jupyter.widget-view+json": {
       "version_major": 2,
       "version_minor": 0,
       "model_id": "8389deb9f8df467f849030ed5f9e2521"
      }
     },
     "metadata": {},
     "output_type": "display_data"
    },
    {
     "data": {
      "text/plain": [
       "Batches:   0%|          | 0/29 [00:00<?, ?it/s]"
      ],
      "application/vnd.jupyter.widget-view+json": {
       "version_major": 2,
       "version_minor": 0,
       "model_id": "56511376cddd48a5b1ab122cdf413f92"
      }
     },
     "metadata": {},
     "output_type": "display_data"
    },
    {
     "data": {
      "text/plain": [
       "0it [00:00, ?it/s]"
      ],
      "application/vnd.jupyter.widget-view+json": {
       "version_major": 2,
       "version_minor": 0,
       "model_id": "222bb20dfb844019b7d8d5d29a7ac4ff"
      }
     },
     "metadata": {},
     "output_type": "display_data"
    },
    {
     "data": {
      "text/plain": [
       "Batches:   0%|          | 0/822 [00:00<?, ?it/s]"
      ],
      "application/vnd.jupyter.widget-view+json": {
       "version_major": 2,
       "version_minor": 0,
       "model_id": "811afee2813c401195e191d801265f83"
      }
     },
     "metadata": {},
     "output_type": "display_data"
    }
   ],
   "execution_count": 17
  },
  {
   "metadata": {
    "ExecuteTime": {
     "end_time": "2024-05-27T22:53:59.984212Z",
     "start_time": "2024-05-27T22:53:59.977942Z"
    }
   },
   "cell_type": "code",
   "source": "print(mpnet_predictions)",
   "id": "d3ccc3da4e94dfaf",
   "outputs": [
    {
     "name": "stdout",
     "output_type": "stream",
     "text": [
      "{'discriminator': 'mpnet', 'allegro':       question-id passage-id     score\n",
      "0               0        875  0.914359\n",
      "1               0        509  0.914310\n",
      "2               0          6  0.913015\n",
      "3               0        685  0.912535\n",
      "4               0        138  0.912485\n",
      "...           ...        ...       ...\n",
      "8995          899         66  0.860436\n",
      "8996          899        152  0.859809\n",
      "8997          899        277  0.859363\n",
      "8998          899        351  0.859104\n",
      "8999          899        229  0.857185\n",
      "\n",
      "[9000 rows x 3 columns], 'legal':       question-id     passage-id     score\n",
      "0               0   1997_553_134  0.880867\n",
      "1               0    2001_628_73  0.878017\n",
      "2               0     1997_715_9  0.877843\n",
      "3               0   1997_553_208  0.872784\n",
      "4               0   1997_553_194  0.872661\n",
      "...           ...            ...       ...\n",
      "7175          717    2001_1381_5  0.836527\n",
      "7176          717    2004_623_37  0.836340\n",
      "7177          717    2004_623_61  0.835774\n",
      "7178          717  2001_1381_130  0.833631\n",
      "7179          717    2004_623_41  0.832920\n",
      "\n",
      "[7180 rows x 3 columns]}\n"
     ]
    }
   ],
   "execution_count": 18
  },
  {
   "metadata": {},
   "cell_type": "markdown",
   "source": [
    "#### MiniLM-L12-v2\n",
    "\n",
    "- faster\n",
    "- general use case, multilingual\n",
    "- pretrained"
   ],
   "id": "3c098d1656f3f8b4"
  },
  {
   "metadata": {
    "ExecuteTime": {
     "end_time": "2024-05-27T22:54:05.327917Z",
     "start_time": "2024-05-27T22:54:05.324528Z"
    }
   },
   "cell_type": "code",
   "source": [
    "passages = {\n",
    "    'allegro': pd.read_json(passages_allegro_source, lines=True, chunksize=int(1e5)),\n",
    "    'wiki': pd.read_json(passages_wiki_source, lines=True, chunksize=int(1e5)),\n",
    "    'legal': pd.read_json(passages_legal_source, lines=True, chunksize=int(1e5)),\n",
    "}"
   ],
   "id": "969ee4a464fd2304",
   "outputs": [],
   "execution_count": 19
  },
  {
   "metadata": {
    "ExecuteTime": {
     "end_time": "2024-05-27T23:07:11.305124Z",
     "start_time": "2024-05-27T23:02:27.486670Z"
    }
   },
   "cell_type": "code",
   "source": [
    "delete_documents()\n",
    "\n",
    "write_to_document_store_with_embeddings('allegro', minilm_document_embedder)\n",
    "write_to_document_store_with_embeddings('legal', minilm_document_embedder)\n",
    "# Takes ~4h\n",
    "# write_to_document_store_with_embeddings('wiki', minilm_document_embedder)\n",
    "\n",
    "minilm_text_embedders = {\n",
    "    'allegro': SentenceTransformersTextEmbedder(model=model_minilm, progress_bar=False),\n",
    "    'wiki': SentenceTransformersTextEmbedder(model=model_minilm, progress_bar=False),\n",
    "    'legal': SentenceTransformersTextEmbedder(model=model_minilm, progress_bar=False),\n",
    "}\n",
    "\n",
    "minilm_pipes = construct_embedding_pipelines(minilm_text_embedders)\n",
    "minilm_pipe_param_callback = lambda row: {'text_embedder': {'text': row['text']}}\n",
    "\n",
    "minilm_predictions = {\n",
    "    'discriminator': 'MiniLM',\n",
    "    'allegro': run_pipe(minilm_pipes['allegro'], minilm_pipe_param_callback, questions_allegro),\n",
    "    'legal': run_pipe(minilm_pipes['legal'], minilm_pipe_param_callback, questions_legal),\n",
    "    # 'wiki': run_pipe(minilm_pipes['wiki'], minilm_pipe_param_callback, questions_wiki)\n",
    "}"
   ],
   "id": "1ce589f181cd353a",
   "outputs": [
    {
     "name": "stdout",
     "output_type": "stream",
     "text": [
      "0\n",
      "0\n",
      "0\n",
      "0\n",
      "0\n",
      "0\n"
     ]
    },
    {
     "data": {
      "text/plain": [
       "0it [00:00, ?it/s]"
      ],
      "application/vnd.jupyter.widget-view+json": {
       "version_major": 2,
       "version_minor": 0,
       "model_id": "2b2846665d1f416e9d2705ad7c3c72cf"
      }
     },
     "metadata": {},
     "output_type": "display_data"
    },
    {
     "data": {
      "text/plain": [
       "Batches:   0%|          | 0/29 [00:00<?, ?it/s]"
      ],
      "application/vnd.jupyter.widget-view+json": {
       "version_major": 2,
       "version_minor": 0,
       "model_id": "f34afa8c69694930a97af68d700db084"
      }
     },
     "metadata": {},
     "output_type": "display_data"
    },
    {
     "data": {
      "text/plain": [
       "0it [00:00, ?it/s]"
      ],
      "application/vnd.jupyter.widget-view+json": {
       "version_major": 2,
       "version_minor": 0,
       "model_id": "53027f17dbcd4dcba52bf031db262d49"
      }
     },
     "metadata": {},
     "output_type": "display_data"
    },
    {
     "data": {
      "text/plain": [
       "Batches:   0%|          | 0/822 [00:00<?, ?it/s]"
      ],
      "application/vnd.jupyter.widget-view+json": {
       "version_major": 2,
       "version_minor": 0,
       "model_id": "0b4d6432a99a49479400b46dbfa11816"
      }
     },
     "metadata": {},
     "output_type": "display_data"
    }
   ],
   "execution_count": 37
  },
  {
   "metadata": {
    "ExecuteTime": {
     "end_time": "2024-05-27T23:07:19.621235Z",
     "start_time": "2024-05-27T23:07:19.616703Z"
    }
   },
   "cell_type": "code",
   "source": "print(minilm_predictions)",
   "id": "a4a07b566f31bb3f",
   "outputs": [
    {
     "name": "stdout",
     "output_type": "stream",
     "text": [
      "{'discriminator': 'MiniLM', 'allegro':       question-id passage-id     score\n",
      "0               0        821  0.932249\n",
      "1               0        685  0.901324\n",
      "2               0          6  0.892788\n",
      "3               0        874  0.854139\n",
      "4               0        509  0.845707\n",
      "...           ...        ...       ...\n",
      "8995          899        617  0.795094\n",
      "8996          899        813  0.792105\n",
      "8997          899        576  0.791660\n",
      "8998          899        822  0.788819\n",
      "8999          899        716  0.785611\n",
      "\n",
      "[9000 rows x 3 columns], 'legal':       question-id    passage-id     score\n",
      "0               0  1997_553_345  0.853504\n",
      "1               0   2001_634_26  0.848969\n",
      "2               0  1997_555_118  0.846674\n",
      "3               0    1997_715_9  0.845255\n",
      "4               0  1997_557_195  0.844825\n",
      "...           ...           ...       ...\n",
      "7175          717   2001_452_27  0.817105\n",
      "7176          717   2004_623_41  0.811789\n",
      "7177          717   2000_179_14  0.810213\n",
      "7178          717   2004_623_43  0.809142\n",
      "7179          717    2001_19_55  0.809074\n",
      "\n",
      "[7180 rows x 3 columns]}\n"
     ]
    }
   ],
   "execution_count": 38
  },
  {
   "metadata": {},
   "cell_type": "markdown",
   "source": "### spacy lemmatization - TODO",
   "id": "1bd9b713677f382d"
  },
  {
   "metadata": {},
   "cell_type": "code",
   "source": [
    "import spacy\n",
    "\n",
    "# Load largest spaCy pipeline for Polish\n",
    "nlp = spacy.load(\"pl_core_news_lg\")\n"
   ],
   "id": "9f9f1af769a382d1",
   "outputs": [],
   "execution_count": null
  },
  {
   "metadata": {},
   "cell_type": "markdown",
   "source": "### spaCy lemmatization + averaged sentence embedding",
   "id": "9f692b03ae6e2f55"
  },
  {
   "metadata": {},
   "cell_type": "markdown",
   "source": "### trained models",
   "id": "2ed7b93bded3faef"
  },
  {
   "metadata": {},
   "cell_type": "markdown",
   "source": "## Load into .tsv files",
   "id": "5fe732a4f2be09b0"
  },
  {
   "cell_type": "code",
   "id": "79be0f32",
   "metadata": {
    "ExecuteTime": {
     "end_time": "2024-05-27T23:07:31.783504Z",
     "start_time": "2024-05-27T23:07:31.721108Z"
    }
   },
   "source": [
    "predictions = [\n",
    "    bm25_predictions,\n",
    "    minilm_predictions,\n",
    "    mpnet_predictions,\n",
    "]\n",
    "\n",
    "for prediction in predictions:\n",
    "    if 'allegro' in prediction:\n",
    "        prediction['allegro'].to_csv(os.path.join(dataset_path + 'allegro/', prediction['discriminator'] + '/submission.tsv'), sep='\\t', index=False)\n",
    "    if 'wiki' in prediction:\n",
    "        prediction['wiki'].to_csv(os.path.join(dataset_path + 'wiki/', prediction['discriminator'] + '/submission.tsv'), sep='\\t', index=False)\n",
    "    if 'legal' in prediction:\n",
    "        prediction['legal'].to_csv(os.path.join(dataset_path + 'legal/', prediction['discriminator'] + '/submission.tsv'), sep='\\t', index=False)\n",
    "    "
   ],
   "outputs": [],
   "execution_count": 39
  },
  {
   "metadata": {},
   "cell_type": "markdown",
   "source": [
    "## Evaluate\n",
    "\n",
    "`o evaluate the results, run these in terminal:`\n",
    "\n",
    "### allegro:\n",
    "`python ./eval.py --true datasets/allegro/pairs-test.tsv --pred datasets/allegro/<name_of_algorithm>/submission.tsv`\n",
    "\n",
    "### wiki\n",
    "`python ./eval.py --true datasets/wiki/pairs-test.tsv --pred datasets/wiki/<name_of_algorithm>/submission.tsv`\n",
    "\n",
    "### legal\n",
    "`python ./eval.py --true datasets/legal/pairs-test.tsv --pred datasets/legal/<name_of_algorithm>/submission.tsv`"
   ],
   "id": "4815b72b5377c7ff"
  }
 ],
 "metadata": {
  "kernelspec": {
   "display_name": "Python 3 (ipykernel)",
   "language": "python",
   "name": "python3"
  },
  "language_info": {
   "codemirror_mode": {
    "name": "ipython",
    "version": 3
   },
   "file_extension": ".py",
   "mimetype": "text/x-python",
   "name": "python",
   "nbconvert_exporter": "python",
   "pygments_lexer": "ipython3",
   "version": "3.9.7"
  }
 },
 "nbformat": 4,
 "nbformat_minor": 5
}
